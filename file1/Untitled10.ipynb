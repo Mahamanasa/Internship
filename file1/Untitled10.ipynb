{
 "cells": [
  {
   "cell_type": "code",
   "execution_count": null,
   "id": "3be6404f",
   "metadata": {},
   "outputs": [],
   "source": [
    "Write a python program to access the search bar and search button on images.google.com and scrape 10\n",
    "#images each for keywords ‘fruits’, ‘cars’ and ‘Machine Learning’, ‘Guitar’, ‘Cakes’.\n",
    "#importing url \n",
    "import urllib\n",
    "\n",
    "#Creating keywords dictionary for the search engine\n",
    "keywords=[\"fruits\",\"cars\",\"Machine Learning\",\"Guitar\",\"Cakes\"]\n",
    "#Fetching website google.com\n",
    "driver=webdriver.Chrome()\n",
    "url=(\"https://www.google.com/imghp?hl=en-GB&tab=ri&authuser=0&ogbl\")\n",
    "\n",
    "#for i in keywords:\n",
    "driver.get(url)\n",
    "driver.click()\n",
    "time.sleep(2)\n",
    "try:\n",
    "    search_field=driver.find_element(By.CLASS_NAME,'YacQv')\n",
    "    search_field.send_keys(\"fruits\")\n",
    "    search_field.click()\n",
    "\n",
    "except ElementNotInteractableException as e:\n",
    "    print(\"Exception Raised\",e)\n",
    "    element=driver.find_element(By.XPATH,\"/html/body/div[1]/div[3]/form/div[1]/div[1]/div[1]/div/div[2]\")\n",
    "    element.send_keys(\"fruits\")\n",
    "    \n",
    "driver.close()\n",
    "\n",
    "search_button=driver.find_element(By.XPATH,\"/html/body/div[1]/div[3]/form/div[1]/div[1]/div[1]/button/div/span\")\n",
    "search_button.click()\n",
    "    \n",
    "\n",
    "    "
   ]
  }
 ],
 "metadata": {
  "kernelspec": {
   "display_name": "Python 3 (ipykernel)",
   "language": "python",
   "name": "python3"
  },
  "language_info": {
   "codemirror_mode": {
    "name": "ipython",
    "version": 3
   },
   "file_extension": ".py",
   "mimetype": "text/x-python",
   "name": "python",
   "nbconvert_exporter": "python",
   "pygments_lexer": "ipython3",
   "version": "3.11.5"
  }
 },
 "nbformat": 4,
 "nbformat_minor": 5
}

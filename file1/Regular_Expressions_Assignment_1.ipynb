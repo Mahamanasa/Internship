{
 "cells": [
  {
   "cell_type": "code",
   "execution_count": 19,
   "id": "d23889bf",
   "metadata": {},
   "outputs": [],
   "source": [
    "#Regular Expressions -- Assignment 1\n",
    "#Import necessary libraries\n",
    "import pandas as pd\n",
    "import regex as re\n"
   ]
  },
  {
   "cell_type": "code",
   "execution_count": 17,
   "id": "869066c9",
   "metadata": {},
   "outputs": [
    {
     "name": "stdout",
     "output_type": "stream",
     "text": [
      "Smile!:you:are:full:of:positive::good:and:productive:vibes:\n",
      "Phyton:Excercise::PHP:Excercises\n"
     ]
    }
   ],
   "source": [
    "#1-Python program to replace all the occurences of a space, comma and dot with a colon.\n",
    "string=\"Smile! you are full of positive, good and productive vibes.\"\n",
    "result=re.sub(r\"[ ,.]\",\":\",string)\n",
    "print(result)\n",
    "string=\"Phyton Excercise, PHP Excercises\"\n",
    "result=re.sub(r\"[ ,.]\",\":\",string)\n",
    "print(result)"
   ]
  },
  {
   "cell_type": "code",
   "execution_count": 20,
   "id": "ea13fa64",
   "metadata": {},
   "outputs": [
    {
     "data": {
      "text/html": [
       "<div>\n",
       "<style scoped>\n",
       "    .dataframe tbody tr th:only-of-type {\n",
       "        vertical-align: middle;\n",
       "    }\n",
       "\n",
       "    .dataframe tbody tr th {\n",
       "        vertical-align: top;\n",
       "    }\n",
       "\n",
       "    .dataframe thead th {\n",
       "        text-align: right;\n",
       "    }\n",
       "</style>\n",
       "<table border=\"1\" class=\"dataframe\">\n",
       "  <thead>\n",
       "    <tr style=\"text-align: right;\">\n",
       "      <th></th>\n",
       "      <th>SUMMARY</th>\n",
       "    </tr>\n",
       "  </thead>\n",
       "  <tbody>\n",
       "    <tr>\n",
       "      <th>0</th>\n",
       "      <td>hello world</td>\n",
       "    </tr>\n",
       "    <tr>\n",
       "      <th>1</th>\n",
       "      <td>test</td>\n",
       "    </tr>\n",
       "    <tr>\n",
       "      <th>2</th>\n",
       "      <td>four five  six</td>\n",
       "    </tr>\n",
       "  </tbody>\n",
       "</table>\n",
       "</div>"
      ],
      "text/plain": [
       "                SUMMARY\n",
       "0          hello world \n",
       "1                  test\n",
       "2     four five  six   "
      ]
     },
     "execution_count": 20,
     "metadata": {},
     "output_type": "execute_result"
    }
   ],
   "source": [
    "#2-Create a dataframe using the dictionary below and remove everything except words.\n",
    "Dictionary=pd.DataFrame({'SUMMARY': ['hello,world!','XXXXX test','123four,five:;six...']})\n",
    "Dictionary\n",
    "Dictionary['SUMMARY']=Dictionary['SUMMARY'].str.replace('[^a-z\\s]',' ', regex=True)\n",
    "Dictionary"
   ]
  },
  {
   "cell_type": "code",
   "execution_count": 21,
   "id": "4a7f29b2",
   "metadata": {},
   "outputs": [],
   "source": [
    "#3-Create a function in python to find all words that are at least 4 characters long in a string.\n",
    "#re.compile()mandatory\n",
    "def find_all_words(string):\n",
    "    pattern=re.compile(r\"\\b\\w{4,}\\b\")\n",
    "    result=pattern.findall(string)\n",
    "    return result\n",
    "                       "
   ]
  },
  {
   "cell_type": "code",
   "execution_count": 22,
   "id": "85e2aa0a",
   "metadata": {},
   "outputs": [
    {
     "name": "stdout",
     "output_type": "stream",
     "text": [
      "['Everyone', 'wants', 'happy', 'Ignite', 'your', 'soul', 'with', 'power', 'positive', 'thinking']\n"
     ]
    }
   ],
   "source": [
    "string=\"Everyone wants to be happy.Ignite your soul with the power of positive thinking.\"\n",
    "outcome=find_all_words(string)\n",
    "print(outcome)"
   ]
  },
  {
   "cell_type": "code",
   "execution_count": 23,
   "id": "c5203383",
   "metadata": {},
   "outputs": [],
   "source": [
    "#4-Create a function in python to find all words that are 3,4 and 5 characters long in a string.\n",
    "#re.compile()mandatory\n",
    "def find_words(string):\n",
    "    pattern=re.compile(r\"\\b\\w{3,5}\\b\")\n",
    "    match=pattern.findall(string)\n",
    "    return match\n"
   ]
  },
  {
   "cell_type": "code",
   "execution_count": 24,
   "id": "b99a8885",
   "metadata": {},
   "outputs": [
    {
     "name": "stdout",
     "output_type": "stream",
     "text": [
      "['The', 'win', 'away', 'and', 'not', 'drama', 'and', 'toxic', 'all']\n"
     ]
    }
   ],
   "source": [
    "string1=\"The greatest win is walking away and choosing not to engage in drama and toxic energy at all.\"\n",
    "outcome=find_words(string1)\n",
    "print(outcome)"
   ]
  },
  {
   "cell_type": "code",
   "execution_count": 25,
   "id": "9974e89a",
   "metadata": {},
   "outputs": [],
   "source": [
    "#5-Create a function in Python to remove the parenthesis in a list of strings.\n",
    "#The use of the re.compile() method is mandatory.\n",
    "def remove_paren(string):\n",
    "    pattern=re.compile(r\"[()]\")\n",
    "    for msg in string:\n",
    "        match=re.sub(pattern,\"\",msg)\n",
    "        print(match,\"\\n\")\n",
    "    "
   ]
  },
  {
   "cell_type": "code",
   "execution_count": 26,
   "id": "e075aca7",
   "metadata": {},
   "outputs": [
    {
     "name": "stdout",
     "output_type": "stream",
     "text": [
      "example.com \n",
      "\n",
      "hr@fliprobo.com \n",
      "\n",
      "github.com \n",
      "\n",
      "Hello Data Science World \n",
      "\n",
      "Data scientist \n",
      "\n"
     ]
    }
   ],
   "source": [
    "string=[\"example(.com)\",\"hr@fliprobo(.com)\",\"github(.com)\",\"Hello (Data Science World)\",\"Data (scientist)\"]\n",
    "result=remove_paren(string)\n"
   ]
  },
  {
   "cell_type": "code",
   "execution_count": 27,
   "id": "9c21cf1e",
   "metadata": {
    "scrolled": true
   },
   "outputs": [
    {
     "name": "stdout",
     "output_type": "stream",
     "text": [
      "[\"example\",\"hr@fliprobo\",\"github\",\"Hello\",\"Data\"]\n",
      "\n"
     ]
    }
   ],
   "source": [
    "#6-Write a python program to remove the parenthesis area from the text stored in the text file using Regular Expression.\n",
    "#string=\"example (.com)\", \"hr@fliprobo (.com)\", \"github (.com)\", \"Hello (Data Science World)\", \"Data (Scientist)\"\n",
    "import regex as re\n",
    "with open(\"/Users/maha/Desktop/Sample_txt.txt\") as file:\n",
    "\n",
    "    for line in file:\n",
    "        result=re.sub(r' ?\\([^)]+\\)*',\"\",line)\n",
    "        print(result)"
   ]
  },
  {
   "cell_type": "code",
   "execution_count": 28,
   "id": "8b642146",
   "metadata": {},
   "outputs": [
    {
     "name": "stdout",
     "output_type": "stream",
     "text": [
      "['Importance', 'Of', 'Regular', 'Expressions', 'In', 'Python']\n"
     ]
    }
   ],
   "source": [
    "#7-Write a regular expression in Python to split a string into uppercase letters.\n",
    "import regex as re\n",
    "string=\"ImportanceOfRegularExpressionsInPython\"\n",
    "result=re.findall(r'([A-Z][^A-Z]*)',string)\n",
    "print(result)\n"
   ]
  },
  {
   "cell_type": "code",
   "execution_count": 29,
   "id": "00ea7d9a",
   "metadata": {},
   "outputs": [
    {
     "name": "stdout",
     "output_type": "stream",
     "text": [
      "RegularExpression 1IsAn 2ImportantTopic 3InPython\n"
     ]
    }
   ],
   "source": [
    "#8-Create a function in python to insert spaces between words starting with numbers.\n",
    "def format_string(string):\n",
    "    pattern=r'(\\d+)([A-Za-z]+)'\n",
    "    match=re.sub(pattern,r' \\1\\2',string)\n",
    "    return match\n",
    "    \n",
    "        \n",
    "string=\"RegularExpression1IsAn2ImportantTopic3InPython\"\n",
    "result=format_string(string)\n",
    "print(result)"
   ]
  },
  {
   "cell_type": "code",
   "execution_count": 142,
   "id": "63d7b540",
   "metadata": {},
   "outputs": [
    {
     "name": "stdout",
     "output_type": "stream",
     "text": [
      "RegularExpression 1IsAn 2ImportantTopic 3InPytho\n"
     ]
    }
   ],
   "source": [
    "#9-Create a function in python to insert spaces between words starting with capital letters or with numbers.\n",
    "sample_txt=\"RegularExpression1IsAn2ImportantTopic3InPytho\"\n",
    "def format_string1(string):\n",
    "    pattern=r'(\\[A-Z][a-z0-9]+|\\d+)'\n",
    "    match=re.sub(pattern,r' \\1',string)\n",
    "    return match\n",
    "\n",
    "result=format_string1(sample_txt)\n",
    "print(result)\n"
   ]
  },
  {
   "cell_type": "code",
   "execution_count": 30,
   "id": "1ac4e909",
   "metadata": {},
   "outputs": [
    {
     "data": {
      "text/html": [
       "<div>\n",
       "<style scoped>\n",
       "    .dataframe tbody tr th:only-of-type {\n",
       "        vertical-align: middle;\n",
       "    }\n",
       "\n",
       "    .dataframe tbody tr th {\n",
       "        vertical-align: top;\n",
       "    }\n",
       "\n",
       "    .dataframe thead th {\n",
       "        text-align: right;\n",
       "    }\n",
       "</style>\n",
       "<table border=\"1\" class=\"dataframe\">\n",
       "  <thead>\n",
       "    <tr style=\"text-align: right;\">\n",
       "      <th></th>\n",
       "      <th>Country</th>\n",
       "      <th>Region</th>\n",
       "      <th>Happiness Rank</th>\n",
       "      <th>Happiness Score</th>\n",
       "      <th>Standard Error</th>\n",
       "      <th>Economy (GDP per Capita)</th>\n",
       "      <th>Family</th>\n",
       "      <th>Health (Life Expectancy)</th>\n",
       "      <th>Freedom</th>\n",
       "      <th>Trust (Government Corruption)</th>\n",
       "      <th>Generosity</th>\n",
       "      <th>Dystopia Residual</th>\n",
       "    </tr>\n",
       "  </thead>\n",
       "  <tbody>\n",
       "    <tr>\n",
       "      <th>0</th>\n",
       "      <td>Switzerland</td>\n",
       "      <td>Western Europe</td>\n",
       "      <td>1</td>\n",
       "      <td>7.587</td>\n",
       "      <td>0.03411</td>\n",
       "      <td>1.39651</td>\n",
       "      <td>1.34951</td>\n",
       "      <td>0.94143</td>\n",
       "      <td>0.66557</td>\n",
       "      <td>0.41978</td>\n",
       "      <td>0.29678</td>\n",
       "      <td>2.51738</td>\n",
       "    </tr>\n",
       "    <tr>\n",
       "      <th>1</th>\n",
       "      <td>Iceland</td>\n",
       "      <td>Western Europe</td>\n",
       "      <td>2</td>\n",
       "      <td>7.561</td>\n",
       "      <td>0.04884</td>\n",
       "      <td>1.30232</td>\n",
       "      <td>1.40223</td>\n",
       "      <td>0.94784</td>\n",
       "      <td>0.62877</td>\n",
       "      <td>0.14145</td>\n",
       "      <td>0.43630</td>\n",
       "      <td>2.70201</td>\n",
       "    </tr>\n",
       "    <tr>\n",
       "      <th>2</th>\n",
       "      <td>Denmark</td>\n",
       "      <td>Western Europe</td>\n",
       "      <td>3</td>\n",
       "      <td>7.527</td>\n",
       "      <td>0.03328</td>\n",
       "      <td>1.32548</td>\n",
       "      <td>1.36058</td>\n",
       "      <td>0.87464</td>\n",
       "      <td>0.64938</td>\n",
       "      <td>0.48357</td>\n",
       "      <td>0.34139</td>\n",
       "      <td>2.49204</td>\n",
       "    </tr>\n",
       "    <tr>\n",
       "      <th>3</th>\n",
       "      <td>Norway</td>\n",
       "      <td>Western Europe</td>\n",
       "      <td>4</td>\n",
       "      <td>7.522</td>\n",
       "      <td>0.03880</td>\n",
       "      <td>1.45900</td>\n",
       "      <td>1.33095</td>\n",
       "      <td>0.88521</td>\n",
       "      <td>0.66973</td>\n",
       "      <td>0.36503</td>\n",
       "      <td>0.34699</td>\n",
       "      <td>2.46531</td>\n",
       "    </tr>\n",
       "    <tr>\n",
       "      <th>4</th>\n",
       "      <td>Canada</td>\n",
       "      <td>North America</td>\n",
       "      <td>5</td>\n",
       "      <td>7.427</td>\n",
       "      <td>0.03553</td>\n",
       "      <td>1.32629</td>\n",
       "      <td>1.32261</td>\n",
       "      <td>0.90563</td>\n",
       "      <td>0.63297</td>\n",
       "      <td>0.32957</td>\n",
       "      <td>0.45811</td>\n",
       "      <td>2.45176</td>\n",
       "    </tr>\n",
       "  </tbody>\n",
       "</table>\n",
       "</div>"
      ],
      "text/plain": [
       "       Country          Region  Happiness Rank  Happiness Score  \\\n",
       "0  Switzerland  Western Europe               1            7.587   \n",
       "1      Iceland  Western Europe               2            7.561   \n",
       "2      Denmark  Western Europe               3            7.527   \n",
       "3       Norway  Western Europe               4            7.522   \n",
       "4       Canada   North America               5            7.427   \n",
       "\n",
       "   Standard Error  Economy (GDP per Capita)   Family  \\\n",
       "0         0.03411                   1.39651  1.34951   \n",
       "1         0.04884                   1.30232  1.40223   \n",
       "2         0.03328                   1.32548  1.36058   \n",
       "3         0.03880                   1.45900  1.33095   \n",
       "4         0.03553                   1.32629  1.32261   \n",
       "\n",
       "   Health (Life Expectancy)  Freedom  Trust (Government Corruption)  \\\n",
       "0                   0.94143  0.66557                        0.41978   \n",
       "1                   0.94784  0.62877                        0.14145   \n",
       "2                   0.87464  0.64938                        0.48357   \n",
       "3                   0.88521  0.66973                        0.36503   \n",
       "4                   0.90563  0.63297                        0.32957   \n",
       "\n",
       "   Generosity  Dystopia Residual  \n",
       "0     0.29678            2.51738  \n",
       "1     0.43630            2.70201  \n",
       "2     0.34139            2.49204  \n",
       "3     0.34699            2.46531  \n",
       "4     0.45811            2.45176  "
      ]
     },
     "execution_count": 30,
     "metadata": {},
     "output_type": "execute_result"
    }
   ],
   "source": [
    "#10-Use the github link below to read the data and create a dataframe. After creating the dataframe extract the first 6 letters of each country and store in the dataframe under a new column called first_five_letters.\n",
    "import pandas as pd\n",
    "df=pd.read_csv(\"https://raw.githubusercontent.com/dsrscientist/DSData/master/happiness_score_dataset.csv\")\n",
    "df.head()"
   ]
  },
  {
   "cell_type": "code",
   "execution_count": 31,
   "id": "c58e1c15",
   "metadata": {},
   "outputs": [
    {
     "data": {
      "text/plain": [
       "(158, 12)"
      ]
     },
     "execution_count": 31,
     "metadata": {},
     "output_type": "execute_result"
    }
   ],
   "source": [
    "df.shape"
   ]
  },
  {
   "cell_type": "code",
   "execution_count": 32,
   "id": "9aa1e156",
   "metadata": {},
   "outputs": [
    {
     "data": {
      "text/html": [
       "<div>\n",
       "<style scoped>\n",
       "    .dataframe tbody tr th:only-of-type {\n",
       "        vertical-align: middle;\n",
       "    }\n",
       "\n",
       "    .dataframe tbody tr th {\n",
       "        vertical-align: top;\n",
       "    }\n",
       "\n",
       "    .dataframe thead th {\n",
       "        text-align: right;\n",
       "    }\n",
       "</style>\n",
       "<table border=\"1\" class=\"dataframe\">\n",
       "  <thead>\n",
       "    <tr style=\"text-align: right;\">\n",
       "      <th></th>\n",
       "      <th>Country</th>\n",
       "      <th>Region</th>\n",
       "      <th>Happiness Rank</th>\n",
       "      <th>Happiness Score</th>\n",
       "      <th>Standard Error</th>\n",
       "      <th>Economy (GDP per Capita)</th>\n",
       "      <th>Family</th>\n",
       "      <th>Health (Life Expectancy)</th>\n",
       "      <th>Freedom</th>\n",
       "      <th>Trust (Government Corruption)</th>\n",
       "      <th>Generosity</th>\n",
       "      <th>Dystopia Residual</th>\n",
       "      <th>first_five_letters</th>\n",
       "    </tr>\n",
       "  </thead>\n",
       "  <tbody>\n",
       "    <tr>\n",
       "      <th>0</th>\n",
       "      <td>Switzerland</td>\n",
       "      <td>Western Europe</td>\n",
       "      <td>1</td>\n",
       "      <td>7.587</td>\n",
       "      <td>0.03411</td>\n",
       "      <td>1.39651</td>\n",
       "      <td>1.34951</td>\n",
       "      <td>0.94143</td>\n",
       "      <td>0.66557</td>\n",
       "      <td>0.41978</td>\n",
       "      <td>0.29678</td>\n",
       "      <td>2.51738</td>\n",
       "      <td>Switze</td>\n",
       "    </tr>\n",
       "    <tr>\n",
       "      <th>1</th>\n",
       "      <td>Iceland</td>\n",
       "      <td>Western Europe</td>\n",
       "      <td>2</td>\n",
       "      <td>7.561</td>\n",
       "      <td>0.04884</td>\n",
       "      <td>1.30232</td>\n",
       "      <td>1.40223</td>\n",
       "      <td>0.94784</td>\n",
       "      <td>0.62877</td>\n",
       "      <td>0.14145</td>\n",
       "      <td>0.43630</td>\n",
       "      <td>2.70201</td>\n",
       "      <td>Icelan</td>\n",
       "    </tr>\n",
       "    <tr>\n",
       "      <th>2</th>\n",
       "      <td>Denmark</td>\n",
       "      <td>Western Europe</td>\n",
       "      <td>3</td>\n",
       "      <td>7.527</td>\n",
       "      <td>0.03328</td>\n",
       "      <td>1.32548</td>\n",
       "      <td>1.36058</td>\n",
       "      <td>0.87464</td>\n",
       "      <td>0.64938</td>\n",
       "      <td>0.48357</td>\n",
       "      <td>0.34139</td>\n",
       "      <td>2.49204</td>\n",
       "      <td>Denmar</td>\n",
       "    </tr>\n",
       "    <tr>\n",
       "      <th>3</th>\n",
       "      <td>Norway</td>\n",
       "      <td>Western Europe</td>\n",
       "      <td>4</td>\n",
       "      <td>7.522</td>\n",
       "      <td>0.03880</td>\n",
       "      <td>1.45900</td>\n",
       "      <td>1.33095</td>\n",
       "      <td>0.88521</td>\n",
       "      <td>0.66973</td>\n",
       "      <td>0.36503</td>\n",
       "      <td>0.34699</td>\n",
       "      <td>2.46531</td>\n",
       "      <td>Norway</td>\n",
       "    </tr>\n",
       "    <tr>\n",
       "      <th>4</th>\n",
       "      <td>Canada</td>\n",
       "      <td>North America</td>\n",
       "      <td>5</td>\n",
       "      <td>7.427</td>\n",
       "      <td>0.03553</td>\n",
       "      <td>1.32629</td>\n",
       "      <td>1.32261</td>\n",
       "      <td>0.90563</td>\n",
       "      <td>0.63297</td>\n",
       "      <td>0.32957</td>\n",
       "      <td>0.45811</td>\n",
       "      <td>2.45176</td>\n",
       "      <td>Canada</td>\n",
       "    </tr>\n",
       "    <tr>\n",
       "      <th>...</th>\n",
       "      <td>...</td>\n",
       "      <td>...</td>\n",
       "      <td>...</td>\n",
       "      <td>...</td>\n",
       "      <td>...</td>\n",
       "      <td>...</td>\n",
       "      <td>...</td>\n",
       "      <td>...</td>\n",
       "      <td>...</td>\n",
       "      <td>...</td>\n",
       "      <td>...</td>\n",
       "      <td>...</td>\n",
       "      <td>...</td>\n",
       "    </tr>\n",
       "    <tr>\n",
       "      <th>153</th>\n",
       "      <td>Rwanda</td>\n",
       "      <td>Sub-Saharan Africa</td>\n",
       "      <td>154</td>\n",
       "      <td>3.465</td>\n",
       "      <td>0.03464</td>\n",
       "      <td>0.22208</td>\n",
       "      <td>0.77370</td>\n",
       "      <td>0.42864</td>\n",
       "      <td>0.59201</td>\n",
       "      <td>0.55191</td>\n",
       "      <td>0.22628</td>\n",
       "      <td>0.67042</td>\n",
       "      <td>Rwanda</td>\n",
       "    </tr>\n",
       "    <tr>\n",
       "      <th>154</th>\n",
       "      <td>Benin</td>\n",
       "      <td>Sub-Saharan Africa</td>\n",
       "      <td>155</td>\n",
       "      <td>3.340</td>\n",
       "      <td>0.03656</td>\n",
       "      <td>0.28665</td>\n",
       "      <td>0.35386</td>\n",
       "      <td>0.31910</td>\n",
       "      <td>0.48450</td>\n",
       "      <td>0.08010</td>\n",
       "      <td>0.18260</td>\n",
       "      <td>1.63328</td>\n",
       "      <td>Benin</td>\n",
       "    </tr>\n",
       "    <tr>\n",
       "      <th>155</th>\n",
       "      <td>Syria</td>\n",
       "      <td>Middle East and Northern Africa</td>\n",
       "      <td>156</td>\n",
       "      <td>3.006</td>\n",
       "      <td>0.05015</td>\n",
       "      <td>0.66320</td>\n",
       "      <td>0.47489</td>\n",
       "      <td>0.72193</td>\n",
       "      <td>0.15684</td>\n",
       "      <td>0.18906</td>\n",
       "      <td>0.47179</td>\n",
       "      <td>0.32858</td>\n",
       "      <td>Syria</td>\n",
       "    </tr>\n",
       "    <tr>\n",
       "      <th>156</th>\n",
       "      <td>Burundi</td>\n",
       "      <td>Sub-Saharan Africa</td>\n",
       "      <td>157</td>\n",
       "      <td>2.905</td>\n",
       "      <td>0.08658</td>\n",
       "      <td>0.01530</td>\n",
       "      <td>0.41587</td>\n",
       "      <td>0.22396</td>\n",
       "      <td>0.11850</td>\n",
       "      <td>0.10062</td>\n",
       "      <td>0.19727</td>\n",
       "      <td>1.83302</td>\n",
       "      <td>Burund</td>\n",
       "    </tr>\n",
       "    <tr>\n",
       "      <th>157</th>\n",
       "      <td>Togo</td>\n",
       "      <td>Sub-Saharan Africa</td>\n",
       "      <td>158</td>\n",
       "      <td>2.839</td>\n",
       "      <td>0.06727</td>\n",
       "      <td>0.20868</td>\n",
       "      <td>0.13995</td>\n",
       "      <td>0.28443</td>\n",
       "      <td>0.36453</td>\n",
       "      <td>0.10731</td>\n",
       "      <td>0.16681</td>\n",
       "      <td>1.56726</td>\n",
       "      <td>Togo</td>\n",
       "    </tr>\n",
       "  </tbody>\n",
       "</table>\n",
       "<p>158 rows × 13 columns</p>\n",
       "</div>"
      ],
      "text/plain": [
       "         Country                           Region  Happiness Rank  \\\n",
       "0    Switzerland                   Western Europe               1   \n",
       "1        Iceland                   Western Europe               2   \n",
       "2        Denmark                   Western Europe               3   \n",
       "3         Norway                   Western Europe               4   \n",
       "4         Canada                    North America               5   \n",
       "..           ...                              ...             ...   \n",
       "153       Rwanda               Sub-Saharan Africa             154   \n",
       "154        Benin               Sub-Saharan Africa             155   \n",
       "155        Syria  Middle East and Northern Africa             156   \n",
       "156      Burundi               Sub-Saharan Africa             157   \n",
       "157         Togo               Sub-Saharan Africa             158   \n",
       "\n",
       "     Happiness Score  Standard Error  Economy (GDP per Capita)   Family  \\\n",
       "0              7.587         0.03411                   1.39651  1.34951   \n",
       "1              7.561         0.04884                   1.30232  1.40223   \n",
       "2              7.527         0.03328                   1.32548  1.36058   \n",
       "3              7.522         0.03880                   1.45900  1.33095   \n",
       "4              7.427         0.03553                   1.32629  1.32261   \n",
       "..               ...             ...                       ...      ...   \n",
       "153            3.465         0.03464                   0.22208  0.77370   \n",
       "154            3.340         0.03656                   0.28665  0.35386   \n",
       "155            3.006         0.05015                   0.66320  0.47489   \n",
       "156            2.905         0.08658                   0.01530  0.41587   \n",
       "157            2.839         0.06727                   0.20868  0.13995   \n",
       "\n",
       "     Health (Life Expectancy)  Freedom  Trust (Government Corruption)  \\\n",
       "0                     0.94143  0.66557                        0.41978   \n",
       "1                     0.94784  0.62877                        0.14145   \n",
       "2                     0.87464  0.64938                        0.48357   \n",
       "3                     0.88521  0.66973                        0.36503   \n",
       "4                     0.90563  0.63297                        0.32957   \n",
       "..                        ...      ...                            ...   \n",
       "153                   0.42864  0.59201                        0.55191   \n",
       "154                   0.31910  0.48450                        0.08010   \n",
       "155                   0.72193  0.15684                        0.18906   \n",
       "156                   0.22396  0.11850                        0.10062   \n",
       "157                   0.28443  0.36453                        0.10731   \n",
       "\n",
       "     Generosity  Dystopia Residual first_five_letters  \n",
       "0       0.29678            2.51738             Switze  \n",
       "1       0.43630            2.70201             Icelan  \n",
       "2       0.34139            2.49204             Denmar  \n",
       "3       0.34699            2.46531             Norway  \n",
       "4       0.45811            2.45176             Canada  \n",
       "..          ...                ...                ...  \n",
       "153     0.22628            0.67042             Rwanda  \n",
       "154     0.18260            1.63328              Benin  \n",
       "155     0.47179            0.32858              Syria  \n",
       "156     0.19727            1.83302             Burund  \n",
       "157     0.16681            1.56726               Togo  \n",
       "\n",
       "[158 rows x 13 columns]"
      ]
     },
     "execution_count": 32,
     "metadata": {},
     "output_type": "execute_result"
    }
   ],
   "source": [
    "df['first_five_letters']=df['Country'].apply(lambda x:x[:6])\n",
    "df       "
   ]
  },
  {
   "cell_type": "code",
   "execution_count": 33,
   "id": "038970fc",
   "metadata": {},
   "outputs": [
    {
     "name": "stdout",
     "output_type": "stream",
     "text": [
      "Match\n",
      "No Match\n",
      "No Match\n"
     ]
    }
   ],
   "source": [
    "#11-Write a Python program to match a string that contains only upper and lowercase letters, numbers, and underscores\n",
    "\n",
    "def match_string(string):\n",
    "    pattern=r'([A-Za-z0-9]_)'\n",
    "    if re.search(pattern,string):\n",
    "        print(\"Match\")\n",
    "    else:\n",
    "        print(\"No Match\")\n",
    "              \n",
    "string=\"Today is the big day, we are in our 4th month APRIL_2024\"\n",
    "string1=\"DATA SCIENCE IS A COMPLEX SUBJECT.\"\n",
    "string2=\"123456789\"\n",
    "match_string(string)\n",
    "match_string(string1)\n",
    "match_string(string2)\n",
    "              \n",
    "\n",
    "              "
   ]
  },
  {
   "cell_type": "code",
   "execution_count": 52,
   "id": "99c81a54",
   "metadata": {},
   "outputs": [
    {
     "name": "stdout",
     "output_type": "stream",
     "text": [
      "The string doesnt start with a specific number.\n",
      "The string starts with a specific number.\n",
      "The string doesnt start with a specific number.\n"
     ]
    }
   ],
   "source": [
    "#12-Write a Python program where a string will start with a specific number. \n",
    "def match_number(string):\n",
    "    #pattern=re.compile(r'^[0-9]')\n",
    "    pattern=re.compile(r'^9')\n",
    "    if pattern.match(string):\n",
    "        print(\"The string starts with a specific number.\")\n",
    "    else:\n",
    "        print(\"The string doesnt start with a specific number.\")\n",
    "\n",
    "        \n",
    "string=\"5 nights stay in a wonderful resort.\"\n",
    "string1=\"9876545678\"\n",
    "string2=\"Let us be happy and make others happy.\"\n",
    "match_number(string)\n",
    "match_number(string1)\n",
    "match_number(string2)\n"
   ]
  },
  {
   "cell_type": "code",
   "execution_count": 197,
   "id": "a178adc3",
   "metadata": {},
   "outputs": [
    {
     "name": "stdout",
     "output_type": "stream",
     "text": [
      "216.09.098.198\n"
     ]
    }
   ],
   "source": [
    "#13- Write a Python program to remove leading zeros from an IP address\n",
    "import re\n",
    "ip_ad=\"216.09.098.198\"\n",
    "result=re.subn('.\\^0*\\d+','',ip_ad)\n",
    "print(ip_ad)"
   ]
  },
  {
   "cell_type": "code",
   "execution_count": 66,
   "id": "f5776800",
   "metadata": {},
   "outputs": [
    {
     "name": "stdout",
     "output_type": "stream",
     "text": [
      "[' August 15th 1947']\n"
     ]
    }
   ],
   "source": [
    "#14-Write a regular expression in python to match a date string in the form of Month name followed by day number and year stored in a text file. :  ' On August 15th 1947 that India was declared independent from British colonialism, and the reins of control were handed over to the leaders of the Country’.\n",
    "#sample_text=\"On August 15th 1947 that India was declared independent from British colonialism, and the reins of control were handed over to the leaders of the Country.\"\n",
    "import re\n",
    "with open(\"/Users/maha/Desktop/august_file.txt\",'r') as file:\n",
    "     for line in file:\n",
    "        pattern=r\"\\b[ August|June|July]*\\b\\d{1,2}(?:st|nd|rd|th)? \\d{4}\"\n",
    "        date_match=re.findall(pattern,line)\n",
    "        print(date_match)\n",
    "     "
   ]
  },
  {
   "cell_type": "code",
   "execution_count": 67,
   "id": "035f020f",
   "metadata": {},
   "outputs": [
    {
     "name": "stdout",
     "output_type": "stream",
     "text": [
      "Matching out fox in \n",
      "'The quick brown fox jumps over the lazy dog.' \n",
      "Perfect Match\n",
      "Matching out dog in \n",
      "'The quick brown fox jumps over the lazy dog.' \n",
      "Perfect Match\n",
      "Matching out horse in \n",
      "'The quick brown fox jumps over the lazy dog.' \n",
      "No Match Found\n"
     ]
    }
   ],
   "source": [
    "#15-Write a Python program to search some literals strings in a string. \n",
    "string=\"The quick brown fox jumps over the lazy dog.\"\n",
    "patterns=['fox','dog','horse']\n",
    "for match in patterns:\n",
    "    print(\"Matching out %s in \\n'%s' \"%(match,string),)\n",
    "    if re.search(match, string):\n",
    "        print(\"Perfect Match\")\n",
    "    else:\n",
    "        print(\"No Match Found\")\n",
    "    "
   ]
  },
  {
   "cell_type": "code",
   "execution_count": 109,
   "id": "a0a68038",
   "metadata": {},
   "outputs": [
    {
     "name": "stdout",
     "output_type": "stream",
     "text": [
      "<regex.Match object; span=(16, 19), match='fox'>\n"
     ]
    }
   ],
   "source": [
    "#16-Write a Python program to search a literals string in a string and also find the location within the original string where the pattern occurs\n",
    "string=\"The quick brown fox jumps over the lazy dog.\"\n",
    "pattern='fox'\n",
    "result=re.finditer(pattern,string)\n",
    "for match_obj in result:\n",
    "    print(match_obj)\n"
   ]
  },
  {
   "cell_type": "code",
   "execution_count": 68,
   "id": "b36d2487",
   "metadata": {},
   "outputs": [
    {
     "name": "stdout",
     "output_type": "stream",
     "text": [
      "['exercises', 'exercises', 'exercises']\n"
     ]
    }
   ],
   "source": [
    "#17-Write a Python program to find the substrings within a string.\n",
    "string=\"Python exercises, PHP exercises, C# exercises\"\n",
    "pattern='exercises'\n",
    "result=re.findall(pattern,string)\n",
    "print(result)"
   ]
  },
  {
   "cell_type": "code",
   "execution_count": 69,
   "id": "fd0920e9",
   "metadata": {},
   "outputs": [
    {
     "name": "stdout",
     "output_type": "stream",
     "text": [
      "<re.Match object; span=(7, 16), match='exercises'>\n",
      "<re.Match object; span=(22, 31), match='exercises'>\n",
      "<re.Match object; span=(36, 45), match='exercises'>\n"
     ]
    }
   ],
   "source": [
    "#18-Write a Python program to find the occurrence and position of the substrings within a string.\n",
    "string=\"Python exercises, PHP exercises, C# exercises\"\n",
    "pattern='exercises'\n",
    "result=re.finditer(pattern,string)\n",
    "for match_obj in result:\n",
    "    print(match_obj)"
   ]
  },
  {
   "cell_type": "code",
   "execution_count": 70,
   "id": "5a4eaa6a",
   "metadata": {},
   "outputs": [
    {
     "name": "stdout",
     "output_type": "stream",
     "text": [
      "Enter the date to be converted in yyyy-mm-dd format: 2024-04-26\n",
      "New converted date format dd-mm-yyyy :   26-04-2024\n"
     ]
    }
   ],
   "source": [
    "#19-Write a Python program to convert a date of yyyy-mm-dd format to dd-mm-yyyy format.\n",
    "def change_date_format(date):\n",
    "    substitute_date=re.sub(r'(\\d{4})-(\\d{1,2})-(\\d{1,2})','\\\\3-\\\\2-\\\\1',date)\n",
    "    return substitute_date\n",
    "\n",
    "date= input('Enter the date to be converted in yyyy-mm-dd format: ')\n",
    "print(\"New converted date format dd-mm-yyyy :  \", change_date_format(date))"
   ]
  },
  {
   "cell_type": "code",
   "execution_count": 73,
   "id": "90bb7449",
   "metadata": {},
   "outputs": [
    {
     "name": "stdout",
     "output_type": "stream",
     "text": [
      "['01.12', '132.12', '145.8', '27.25']\n"
     ]
    }
   ],
   "source": [
    "#20-Create a function in python to find all decimal numbers with a precision of 1 or 2 in a string. The use of the re.compile() method is mandatory.\n",
    "import regex as re\n",
    "def precision_deci_numbers(string):\n",
    "    pattern=re.compile(r'\\d{2,3}\\.\\d{1,2}')\n",
    "    decimal_num=re.findall(pattern,string)\n",
    "    return decimal_num\n",
    "                       \n",
    "string=\"01.12 0132.123 2.31875 145.8 3.01 27.25 0.25\"\n",
    "result=precision_deci_numbers(string)\n",
    "print(result)\n"
   ]
  },
  {
   "cell_type": "code",
   "execution_count": 72,
   "id": "544e2b14",
   "metadata": {},
   "outputs": [
    {
     "name": "stdout",
     "output_type": "stream",
     "text": [
      "20\n",
      "Position:  1\n",
      "100\n",
      "Position:  146\n"
     ]
    }
   ],
   "source": [
    "#21-Write a Python program to separate and print the numbers and their position of a given string.\n",
    "import re\n",
    "string=\" 20 years from now you will be more disappointed by the things you didn't do than by the ones you did, live the moment and take the chances, live 100%\"\n",
    "for msgs in re.finditer(r'\\d+',string):\n",
    "        print(msgs.group())\n",
    "        print(\"Position: \",msgs.start())\n"
   ]
  },
  {
   "cell_type": "code",
   "execution_count": 74,
   "id": "7822dbdb",
   "metadata": {},
   "outputs": [
    {
     "name": "stdout",
     "output_type": "stream",
     "text": [
      " Maximum marks scored in this semester is  950\n"
     ]
    }
   ],
   "source": [
    "#22-Write a regular expression in python program to extract maximum/largest numeric value from a string.\n",
    "string='My marks in each semester are: 947, 896, 926, 524, 734, 950, 642'\n",
    "values=re.findall(r\"\\d+\",string)\n",
    "values=[int(int_values) for int_values in values]\n",
    "max_value=max(values)\n",
    "print(\" Maximum marks scored in this semester is \",max_value)\n"
   ]
  },
  {
   "cell_type": "code",
   "execution_count": 75,
   "id": "2ea188f0",
   "metadata": {},
   "outputs": [
    {
     "name": "stdout",
     "output_type": "stream",
     "text": [
      "Regular Expressions Is An Important Topic In Python\n"
     ]
    }
   ],
   "source": [
    "#23-Create a function in python to insert spaces between words starting with capital letters.\n",
    "import re\n",
    "def word_format(string):\n",
    "    space_string=re.sub(r'(\\w)([A-Z])',r'\\1 \\2',string)\n",
    "    print(space_string)\n",
    "\n",
    "string=\"RegularExpressionsIsAnImportantTopicInPython\"\n",
    "word_format(string)\n"
   ]
  },
  {
   "cell_type": "code",
   "execution_count": 76,
   "id": "8fbd1310",
   "metadata": {},
   "outputs": [
    {
     "name": "stdout",
     "output_type": "stream",
     "text": [
      "['Regular', 'Expressions', 'Is', 'An', 'Important', 'Topic', 'In', 'Python']\n"
     ]
    }
   ],
   "source": [
    "#24-Python regex to find sequences of one upper case letter followed by lower case letters.\n",
    "string=\"Regular Expressions Is An Important Topic In Python PERFECT 12retreat.\"\n",
    "result=re.findall(r'[A-Z]+[a-z]+',string)\n",
    "print(result)"
   ]
  },
  {
   "cell_type": "code",
   "execution_count": 77,
   "id": "e5a2e750",
   "metadata": {},
   "outputs": [
    {
     "name": "stdout",
     "output_type": "stream",
     "text": [
      "Hello Data Science World.\n"
     ]
    }
   ],
   "source": [
    "#25-Write a Python program to remove continuous duplicate words from Sentence using Regular Expression.\n",
    "string1=\"Hello Hello Data Science World World.\"\n",
    "regex=r'\\b(\\w+)(?:\\W+\\1\\b)+'\n",
    "result=re.sub(regex,r'\\1',string1)\n",
    "print(result)"
   ]
  },
  {
   "cell_type": "code",
   "execution_count": 78,
   "id": "074ef73b",
   "metadata": {},
   "outputs": [
    {
     "name": "stdout",
     "output_type": "stream",
     "text": [
      "Accept My name is Manasa123\n",
      "Not Accepted 123datascience@\n"
     ]
    }
   ],
   "source": [
    "#26-Write a python program using RegEx to accept string ending with alphanumeric character.\n",
    "import re\n",
    "regex_pattern=r'[a-zA-Z0-9]$'\n",
    "def check_string(string):\n",
    "    if(re.search(regex_pattern,string)):\n",
    "        print(f\"Accept\",string)\n",
    "    else:\n",
    "        print(f\"Not Accepted\",string)\n",
    "\n",
    "string=\"My name is Manasa123\"\n",
    "string1=\"123datascience@\"\n",
    "check_string(string)\n",
    "check_string(string1)\n",
    "              "
   ]
  },
  {
   "cell_type": "code",
   "execution_count": 79,
   "id": "cc542f8d",
   "metadata": {},
   "outputs": [
    {
     "name": "stdout",
     "output_type": "stream",
     "text": [
      "['#Doltiwal', '#xyzabc', '#Demonetization']\n"
     ]
    }
   ],
   "source": [
    "#27-Write a python program using RegEx to extract the hashtags.\n",
    "string=\"\"\"RT @kapil_kausik: #Doltiwal I mean #xyzabc is \"hurt\" by #Demonetization as the same has rendered USELESS <ed><U+00A0><U+00BD><ed><U+00B1><U+0089> \"acquired funds\" No wo\"\"\"\n",
    "result=re.findall(r'#\\w+',string)\n",
    "print(result)"
   ]
  },
  {
   "cell_type": "code",
   "execution_count": 214,
   "id": "6d25b7e5",
   "metadata": {},
   "outputs": [
    {
     "name": "stdout",
     "output_type": "stream",
     "text": [
      "@Jags123456 Bharat band on 28??<ed><ed>Those who  are protesting #demonetization  are all different party leaders\n"
     ]
    }
   ],
   "source": [
    "#28-Write a python program using RegEx to remove <U+..> like symbols\n",
    "string=\"@Jags123456 Bharat band on 28??<ed><U+00A0><U+00BD><ed><U+00B8><U+0082>Those who  are protesting #demonetization  are all different party leaders\"\n",
    "result=re.sub(r'(<U\\+\\w{4}>)','',string)\n",
    "print(result)"
   ]
  },
  {
   "cell_type": "code",
   "execution_count": 84,
   "id": "bcb57d64",
   "metadata": {},
   "outputs": [
    {
     "name": "stdout",
     "output_type": "stream",
     "text": [
      "['12-09-1992', '15-12-1999']\n"
     ]
    }
   ],
   "source": [
    "#29-.Write a python program to extract dates from the text stored in the text file.\n",
    "#string=\"Ron was born on 12-09-1992 and he was admitted to school 15-12-1999.\"\n",
    "import re\n",
    "with open(\"/Users/maha/Desktop/date_text_file.txt\")as file:\n",
    "    for line in file:\n",
    "        date_match=re.findall(r'\\d{2}-\\d{2}-\\d{4}+',line)\n",
    "        print(date_match)\n",
    "        \n"
   ]
  },
  {
   "cell_type": "code",
   "execution_count": 86,
   "id": "2d781fbf",
   "metadata": {
    "scrolled": false
   },
   "outputs": [
    {
     "name": "stdout",
     "output_type": "stream",
     "text": [
      " following example creates ArrayList a capacity elements. 4 elements added ArrayList ArrayList trimmed accordingly.\n"
     ]
    }
   ],
   "source": [
    "#30-Create a function in python to remove all words from a string of length between 2 and 4.\n",
    "string=\"The following example creates an ArrayList with a capacity of 50 elements. 4 elements are then added to the ArrayList and the ArrayList is trimmed accordingly.\"\n",
    "\n",
    "def remove_words(string):\n",
    "    result=re.sub(r'\\W*\\b\\w{2,4}\\b',\"\",string)\n",
    "    print(result)\n",
    "\n",
    "remove_words(string)\n",
    "    "
   ]
  },
  {
   "cell_type": "code",
   "execution_count": 87,
   "id": "3528da39",
   "metadata": {},
   "outputs": [
    {
     "name": "stdout",
     "output_type": "stream",
     "text": [
      "END OF ASSIGNEMNT\n"
     ]
    }
   ],
   "source": [
    "print(\"END OF ASSIGNEMNT\")"
   ]
  },
  {
   "cell_type": "code",
   "execution_count": null,
   "id": "e4125331",
   "metadata": {},
   "outputs": [],
   "source": []
  }
 ],
 "metadata": {
  "kernelspec": {
   "display_name": "Python 3 (ipykernel)",
   "language": "python",
   "name": "python3"
  },
  "language_info": {
   "codemirror_mode": {
    "name": "ipython",
    "version": 3
   },
   "file_extension": ".py",
   "mimetype": "text/x-python",
   "name": "python",
   "nbconvert_exporter": "python",
   "pygments_lexer": "ipython3",
   "version": "3.11.5"
  }
 },
 "nbformat": 4,
 "nbformat_minor": 5
}

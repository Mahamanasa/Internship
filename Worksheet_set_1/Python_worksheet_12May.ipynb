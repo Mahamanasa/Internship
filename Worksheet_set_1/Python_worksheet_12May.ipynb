{
 "cells": [
  {
   "cell_type": "markdown",
   "id": "83fe8be5",
   "metadata": {},
   "source": [
    "Python Worksheet"
   ]
  },
  {
   "cell_type": "markdown",
   "id": "2f1d601d",
   "metadata": {},
   "source": [
    "1.Which of the following operators is used to calculate remainder in a division?\n",
    "A) # B) &\n",
    "C) % D) $\n",
    "Ans : C)%"
   ]
  },
  {
   "cell_type": "code",
   "execution_count": 62,
   "id": "743af6ad",
   "metadata": {},
   "outputs": [
    {
     "name": "stdout",
     "output_type": "stream",
     "text": [
      "1\n"
     ]
    }
   ],
   "source": [
    "a=10%3\n",
    "print(a)"
   ]
  },
  {
   "cell_type": "markdown",
   "id": "20f62739",
   "metadata": {},
   "source": [
    "2.In python 2//3 is equal to?\n",
    "A) 0.666 B) 0\n",
    "C) 1 D) 0.67\n",
    "Ans : B)0"
   ]
  },
  {
   "cell_type": "code",
   "execution_count": 3,
   "id": "8f18df4f",
   "metadata": {},
   "outputs": [
    {
     "name": "stdout",
     "output_type": "stream",
     "text": [
      "0\n"
     ]
    }
   ],
   "source": [
    "a=2//3\n",
    "print(a)"
   ]
  },
  {
   "cell_type": "markdown",
   "id": "bbe08d97",
   "metadata": {},
   "source": [
    "3. In python, 6<<2 is equal to?\n",
    "A) 36 B) 10\n",
    "C) 24 D) 45\n",
    "Ans: C)24\n",
    "    "
   ]
  },
  {
   "cell_type": "code",
   "execution_count": 65,
   "id": "13b0f278",
   "metadata": {},
   "outputs": [
    {
     "name": "stdout",
     "output_type": "stream",
     "text": [
      "24\n"
     ]
    }
   ],
   "source": [
    "a=6<<2\n",
    "print(a)"
   ]
  },
  {
   "cell_type": "markdown",
   "id": "a2c45598",
   "metadata": {},
   "source": [
    "4.In python, 6&2 will give which of the following as output?\n",
    "A) 2 B) True\n",
    "C) False D) 0\n",
    "Ans: A)2"
   ]
  },
  {
   "cell_type": "code",
   "execution_count": 5,
   "id": "65cc9855",
   "metadata": {},
   "outputs": [
    {
     "name": "stdout",
     "output_type": "stream",
     "text": [
      "2\n"
     ]
    }
   ],
   "source": [
    "a=6&2\n",
    "print(a)"
   ]
  },
  {
   "cell_type": "markdown",
   "id": "1c065c57",
   "metadata": {},
   "source": [
    "5. In python, 6|2 will give which of the following as output?\n",
    "A) 2 B) 4\n",
    "C) 0 D) 6\n",
    "Ans: D)6"
   ]
  },
  {
   "cell_type": "code",
   "execution_count": 6,
   "id": "40b2d20e",
   "metadata": {},
   "outputs": [
    {
     "name": "stdout",
     "output_type": "stream",
     "text": [
      "6\n"
     ]
    }
   ],
   "source": [
    "a=6|2\n",
    "print(a)"
   ]
  },
  {
   "cell_type": "markdown",
   "id": "9739b01b",
   "metadata": {},
   "source": [
    "6.What does the finally keyword denotes in python?\n",
    "A) It is used to mark the end of the code\n",
    "B) It encloses the lines of code which will be executed if any error occurs while executing the lines of code in\n",
    "the try block.\n",
    "C) the finally block will be executed no matter if the try block raises an error or not.\n",
    "D) None of the above\n",
    "Ans: C) the finally block will be executed no matter if the try block raises an error or not.\n",
    "\n",
    "7. What does raise keyword is used for in python?\n",
    "A) It is used to raise an exception. B) It is used to define lambda function\n",
    "C) it's not a keyword in python. D) None of the above\n",
    "Ans:A) It is used to raise an exception\n",
    "\n",
    "8. Which of the following is a common use case of yield keyword in python?\n",
    "A) in defining an iterator B) while defining a lambda function\n",
    "C) in defining a generator D) in for loop.\n",
    "Ans: C) in defining a generator\n"
   ]
  },
  {
   "cell_type": "markdown",
   "id": "01abcbca",
   "metadata": {},
   "source": [
    "9.Which of the following are the valid variable names?\n",
    "A) _abc B) 1abc\n",
    "C) abc2 D) None of the above\n",
    "Ans: A)_abc and C)abc2"
   ]
  },
  {
   "cell_type": "markdown",
   "id": "ff4c4f5b",
   "metadata": {},
   "source": [
    "10.Which of the following are the keywords in python?\n",
    "A) yield B) raise\n",
    "C) look-in D) all of the above\n",
    "Ans : A) yield B)raise\n"
   ]
  },
  {
   "cell_type": "code",
   "execution_count": 14,
   "id": "5acfc603",
   "metadata": {},
   "outputs": [
    {
     "name": "stdout",
     "output_type": "stream",
     "text": [
      "Enter the number for which you factorial has to be found:-9\n",
      "Factorial cannot be found.\n"
     ]
    }
   ],
   "source": [
    "#Python program to find the factorial of a number\n",
    "num=int(input(\"Enter the number for which you factorial has to be found:\"))\n",
    "factorial=1\n",
    "if num<0:\n",
    "    print(\"Factorial cannot be found.\")\n",
    "elif num==0:\n",
    "    print(\"Factorial of the number is 1.\")\n",
    "else:\n",
    "    for i in range(1,num+1):\n",
    "        factorial=factorial*i\n",
    "        \n",
    "    print(\"The factor of the number is :\",factorial)\n",
    "        \n"
   ]
  },
  {
   "cell_type": "code",
   "execution_count": 39,
   "id": "88e46975",
   "metadata": {},
   "outputs": [
    {
     "name": "stdout",
     "output_type": "stream",
     "text": [
      "Enter the number :163\n",
      "163 is a prime number\n"
     ]
    }
   ],
   "source": [
    "#Python program to find whether a number is prime or composite.\n",
    "num=int(input(\"Enter the number :\"))\n",
    "if num>2:\n",
    "    for i in range(2,int((num/2))+1):\n",
    "        if (num % i) == 0:\n",
    "            print(num,\" is a composite number \")\n",
    "            break\n",
    "        else:\n",
    "            print(num, \"is a prime number\")\n",
    "            break\n",
    "elif num == 0 or 1:\n",
    "    print(num, \" is a prime number\")\n",
    "\n",
    "    "
   ]
  },
  {
   "cell_type": "code",
   "execution_count": 47,
   "id": "a6e72986",
   "metadata": {},
   "outputs": [
    {
     "name": "stdout",
     "output_type": "stream",
     "text": [
      "Enter the string:sunshine in summer\n",
      "The string is not palindrome.\n"
     ]
    }
   ],
   "source": [
    "#Python Program to check whether a string is palindrome or not\n",
    "def ispalindrome(string):\n",
    "    if (string==string[::-1]):\n",
    "        return \"The string is palindrome.\"\n",
    "    else:\n",
    "        return\"The string is not palindrome.\"\n",
    "\n",
    "string=input((\"Enter the string:\"))\n",
    "print(ispalindrome(string))\n",
    "\n",
    "        "
   ]
  },
  {
   "cell_type": "code",
   "execution_count": 55,
   "id": "f84baf99",
   "metadata": {},
   "outputs": [
    {
     "name": "stdout",
     "output_type": "stream",
     "text": [
      "Pythogorean theorem,calculate the third side.\n",
      "Lets assume we have three sides a,b and c and c is the hypotenuse.\n",
      "Which side(a,b,c)do you want to calculate?c\n",
      "Enter the length of the side a:2\n",
      "Enter the length of the side b:3\n",
      "The length of the hypotenuse is  3.605551275463989\n"
     ]
    }
   ],
   "source": [
    "# Python program to get the third side of right-angled triangle from two given sides\n",
    "from math import sqrt\n",
    "print(\"Pythogorean theorem,calculate the third side.\")\n",
    "print(\"Lets assume we have three sides a,b and c and c is the hypotenuse.\")\n",
    "calculate=input(\"Which side(a,b,c)do you want to calculate?\")\n",
    "\n",
    "if calculate == 'c':\n",
    "    a=float(input(\"Enter the length of the side a:\"))\n",
    "    b=float(input(\"Enter the length of the side b:\"))\n",
    "    c=sqrt(a*a+b*b)\n",
    "    print(\"The length of the hypotenuse is \",c)\n",
    "    \n",
    "elif calculate == 'b':\n",
    "    a=float(input(\"Enter the length of the side a:\"))\n",
    "    c=float(input(\"Enter the length of the side(hypotenuse) c:\"))\n",
    "    b=sqrt(c*c-a*a)\n",
    "    print(\"The length of the side b is \",b)\n",
    "    \n",
    "elif calculate == 'a':\n",
    "    b=float(input(\"Enter the length of the side b:\"))\n",
    "    c=float(input(\"Enter the length of the side(hypotenuse) c:\"))\n",
    "    a=sqrt(c*c-b*b)\n",
    "    print(\"The length of the side a is \",a)\n",
    "\n",
    "else:\n",
    "    print(\"Invalid Input\")    \n",
    "\n",
    "    "
   ]
  },
  {
   "cell_type": "code",
   "execution_count": 61,
   "id": "4e10b095",
   "metadata": {},
   "outputs": [
    {
     "name": "stdout",
     "output_type": "stream",
     "text": [
      "Enter the string abcd abcdef\n",
      "{'a': 2, 'b': 2, 'c': 2, 'd': 2, ' ': 1, 'e': 1, 'f': 1}\n"
     ]
    }
   ],
   "source": [
    "#Python program to print the frequency of each of the characters present in a given string.\n",
    "string=input (\"Enter the string \")\n",
    "#for i in string:\n",
    "    #frequency=string.count(i)\n",
    "    #print(str(i)+\":\"+str(frequency),end=\",\") \n",
    "\n",
    "dict={}\n",
    "for i in string:\n",
    "    if i in dict:\n",
    "        dict[i]+=1\n",
    "    else:\n",
    "        dict[i]=1\n",
    "    \n",
    "print(dict)\n",
    "        \n",
    "    "
   ]
  },
  {
   "cell_type": "code",
   "execution_count": null,
   "id": "42cf3169",
   "metadata": {},
   "outputs": [],
   "source": []
  }
 ],
 "metadata": {
  "kernelspec": {
   "display_name": "Python 3 (ipykernel)",
   "language": "python",
   "name": "python3"
  },
  "language_info": {
   "codemirror_mode": {
    "name": "ipython",
    "version": 3
   },
   "file_extension": ".py",
   "mimetype": "text/x-python",
   "name": "python",
   "nbconvert_exporter": "python",
   "pygments_lexer": "ipython3",
   "version": "3.11.5"
  }
 },
 "nbformat": 4,
 "nbformat_minor": 5
}
